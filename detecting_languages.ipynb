{
  "cells": [
    {
      "cell_type": "markdown",
      "metadata": {
        "id": "rGBfnCO9m2js"
      },
      "source": [
        "# Detecting Languages"
      ]
    },
    {
      "cell_type": "markdown",
      "metadata": {
        "id": "le_O_1LWg5Kv"
      },
      "source": [
        "## Import And Treat Data"
      ]
    },
    {
      "cell_type": "markdown",
      "metadata": {
        "id": "4Cwb9ww1tCHb"
      },
      "source": [
        "### Import Data"
      ]
    },
    {
      "cell_type": "code",
      "execution_count": null,
      "metadata": {
        "colab": {
          "base_uri": "https://localhost:8080/"
        },
        "id": "svlTGZRezg0W",
        "outputId": "5ccb3ee4-109c-454a-9dc7-33eaa926f3ba"
      },
      "outputs": [],
      "source": [
        "#!pip install python_speech_features"
      ]
    },
    {
      "cell_type": "code",
      "execution_count": 18,
      "metadata": {
        "colab": {
          "base_uri": "https://localhost:8080/"
        },
        "id": "ZY5YiGn_igYG",
        "outputId": "458df8db-d953-499b-b7ef-ebef135b9480"
      },
      "outputs": [],
      "source": [
        "#import python_speech_features as mfcc\n",
        "from scipy.io.wavfile import read\n",
        "import numpy as np\n",
        "import pandas as pd\n",
        "import glob\n",
        "import matplotlib.pyplot as plt\n",
        "#from google.colab import drive\n",
        "#drive.mount('/content/drive')"
      ]
    },
    {
      "cell_type": "code",
      "execution_count": 19,
      "metadata": {
        "id": "fdNW5yemi-jW"
      },
      "outputs": [
        {
          "data": {
            "text/plain": [
              "'\\ndef get_MFCC(audio, sr):\\n    features = mfcc.mfcc(audio, sr, 0.025, 0.01, 13, appendEnergy = True)\\n    return np.mean(features, axis=0)\\n'"
            ]
          },
          "execution_count": 19,
          "metadata": {},
          "output_type": "execute_result"
        }
      ],
      "source": [
        "'''\n",
        "def get_MFCC(audio, sr):\n",
        "    features = mfcc.mfcc(audio, sr, 0.025, 0.01, 13, appendEnergy = True)\n",
        "    return np.mean(features, axis=0)\n",
        "'''"
      ]
    },
    {
      "cell_type": "code",
      "execution_count": 20,
      "metadata": {
        "id": "MRoepMLBitjO"
      },
      "outputs": [
        {
          "data": {
            "text/plain": [
              "'\\nfeatures_list=[]\\nfeatures=[]\\nl=[]\\ncount=0\\nwavfiles=glob.glob(\"/content/drive/My Drive/Recordings/*\")\\n# loading the data from the drive\\n\\nfor name in wavfiles:\\n  \\n  # print(name)\\n  label=name.split(\"/\")[5].split(\"-\")[0]\\n  \\n  # recordingno=name.split(\"/\")[5].split(\"-\")[1]\\n  # print(recordingno)\\n  #calling the MFCC function for getting features\\n  sr, audio = read(name)\\n  features_list=get_MFCC(audio, sr).tolist()\\n\\n  #encoding the data with 0,1,2 values as labels \\n  if(label==\"ur\"):\\n    label=0\\n  elif(label==\"en\"):\\n    label=1\\n  elif(label==\"ue\"):\\n    label=2\\n\\n  features_list.append(label)\\n  features.append(features_list)\\n  count=(count+1)\\n  print(count)\\nfeatures\\n\\n#Creating Dataframe \\ndf=pd.DataFrame(features, columns = [\\'feat_0\\',\\'feat_1\\',\\'feat_2\\',\\'feat_3\\',\\'feat_4\\',\\'feat_5\\',\\'feat_6\\',\\'feat_7\\',\\'feat_8\\',\\'feat_9\\',\\'feat_10\\',\\'feat_11\\',\\'feat_12\\',\\'label\\'])\\n'"
            ]
          },
          "execution_count": 20,
          "metadata": {},
          "output_type": "execute_result"
        }
      ],
      "source": [
        "'''\n",
        "features_list=[]\n",
        "features=[]\n",
        "l=[]\n",
        "count=0\n",
        "wavfiles=glob.glob(\"/content/drive/My Drive/Recordings/*\")\n",
        "# loading the data from the drive\n",
        "\n",
        "for name in wavfiles:\n",
        "  \n",
        "  # print(name)\n",
        "  label=name.split(\"/\")[5].split(\"-\")[0]\n",
        "  \n",
        "  # recordingno=name.split(\"/\")[5].split(\"-\")[1]\n",
        "  # print(recordingno)\n",
        "  #calling the MFCC function for getting features\n",
        "  sr, audio = read(name)\n",
        "  features_list=get_MFCC(audio, sr).tolist()\n",
        "\n",
        "  #encoding the data with 0,1,2 values as labels \n",
        "  if(label==\"ur\"):\n",
        "    label=0\n",
        "  elif(label==\"en\"):\n",
        "    label=1\n",
        "  elif(label==\"ue\"):\n",
        "    label=2\n",
        "\n",
        "  features_list.append(label)\n",
        "  features.append(features_list)\n",
        "  count=(count+1)\n",
        "  print(count)\n",
        "features\n",
        "\n",
        "#Creating Dataframe \n",
        "df=pd.DataFrame(features, columns = ['feat_0','feat_1','feat_2','feat_3','feat_4','feat_5','feat_6','feat_7','feat_8','feat_9','feat_10','feat_11','feat_12','label'])\n",
        "'''"
      ]
    },
    {
      "cell_type": "markdown",
      "metadata": {
        "id": "h5ox1zLHtbjq"
      },
      "source": [
        "### Save Data to CSV"
      ]
    },
    {
      "cell_type": "code",
      "execution_count": 21,
      "metadata": {
        "id": "0ScNFIyui4k2"
      },
      "outputs": [
        {
          "data": {
            "text/plain": [
              "'\\ndf.to_csv(\\'data.csv\\')\\n!cp data.csv \"drive/My Drive/\"\\nf = open(\\'/content/drive/csv_file\\', \\'w\\')\\n\\n# create the csv writer\\nwriter = csv.writer(f)\\n\\n# write a row to the csv file\\nwriter.writerow(row)\\n\\n# close the file\\nf.close()\\n'"
            ]
          },
          "execution_count": 21,
          "metadata": {},
          "output_type": "execute_result"
        }
      ],
      "source": [
        "'''\n",
        "df.to_csv('data.csv')\n",
        "!cp data.csv \"drive/My Drive/\"\n",
        "f = open('/content/drive/csv_file', 'w')\n",
        "\n",
        "# create the csv writer\n",
        "writer = csv.writer(f)\n",
        "\n",
        "# write a row to the csv file\n",
        "writer.writerow(row)\n",
        "\n",
        "# close the file\n",
        "f.close()\n",
        "'''"
      ]
    },
    {
      "cell_type": "code",
      "execution_count": 22,
      "metadata": {
        "id": "bqy52VwWs2md"
      },
      "outputs": [
        {
          "data": {
            "text/plain": [
              "'\\nlabelmod=[]\\nfor label in d:\\n  if not type(label)==int:\\n      l=label.split(\"_\")[0]\\n      if(l==\"ur\"):\\n        labelmod.append(0)\\n      elif(l==\"en\"):\\n        labelmod.append(1)\\n      elif(l==\"ue\"):\\n        labelmod.append(2)\\n  else:\\n    labelmod.append(label)\\n\\nlabelmod\\ndf[\\'label\\'] = labelmod\\ndf.to_csv(\\'data.csv\\')\\n!cp data.csv \"drive/My Drive/\"\\n'"
            ]
          },
          "execution_count": 22,
          "metadata": {},
          "output_type": "execute_result"
        }
      ],
      "source": [
        "'''\n",
        "labelmod=[]\n",
        "for label in d:\n",
        "  if not type(label)==int:\n",
        "      l=label.split(\"_\")[0]\n",
        "      if(l==\"ur\"):\n",
        "        labelmod.append(0)\n",
        "      elif(l==\"en\"):\n",
        "        labelmod.append(1)\n",
        "      elif(l==\"ue\"):\n",
        "        labelmod.append(2)\n",
        "  else:\n",
        "    labelmod.append(label)\n",
        "\n",
        "labelmod\n",
        "df['label'] = labelmod\n",
        "df.to_csv('data.csv')\n",
        "!cp data.csv \"drive/My Drive/\"\n",
        "'''"
      ]
    },
    {
      "cell_type": "markdown",
      "metadata": {
        "id": "RzTdDH-DtgL7"
      },
      "source": [
        "### Test-Train Split"
      ]
    },
    {
      "cell_type": "code",
      "execution_count": 23,
      "metadata": {
        "colab": {
          "base_uri": "https://localhost:8080/",
          "height": 73,
          "resources": {
            "http://localhost:8080/nbextensions/google.colab/files.js": {
              "data": "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",
              "headers": [
                [
                  "content-type",
                  "application/javascript"
                ]
              ],
              "ok": true,
              "status": 200,
              "status_text": ""
            }
          }
        },
        "id": "FuBfowTXs4rb",
        "outputId": "707b7c8f-b4e4-4a55-f12f-bf1c7745f038"
      },
      "outputs": [],
      "source": [
        "df = pd.read_csv('MFCCdataframe.csv')\n",
        "df.drop(['Unnamed: 0'], axis=1, inplace=True)\n",
        "\n",
        "X= df.iloc[:,:-1]\n",
        "y= df.iloc[:,-1]\n",
        "\n",
        "# Train test split\n",
        "from sklearn.model_selection import train_test_split\n",
        "train_X, test_X, train_Y, test_Y = train_test_split(X, y, test_size=0.3,stratify=y)\n",
        "\n",
        "from sklearn.preprocessing import StandardScaler\n",
        "scaler = StandardScaler()\n",
        "scaler.fit(train_X)\n",
        "train_X = scaler.transform(train_X)\n",
        "test_X = scaler.transform(test_X)"
      ]
    },
    {
      "cell_type": "markdown",
      "metadata": {},
      "source": [
        "## KNN"
      ]
    },
    {
      "cell_type": "markdown",
      "metadata": {},
      "source": [
        "### KNN Cross-Validation"
      ]
    },
    {
      "cell_type": "code",
      "execution_count": 31,
      "metadata": {},
      "outputs": [
        {
          "name": "stdout",
          "output_type": "stream",
          "text": [
            "The best number of neighbors is 3\n"
          ]
        },
        {
          "data": {
            "image/png": "[encoded data removed]",
            "text/plain": [
              "<Figure size 432x288 with 1 Axes>"
            ]
          },
          "metadata": {
            "needs_background": "light"
          },
          "output_type": "display_data"
        }
      ],
      "source": [
        "# KNN\n",
        "from sklearn.neighbors import KNeighborsClassifier\n",
        "from sklearn.model_selection import cross_validate\n",
        "\n",
        "knn_accuracy = []\n",
        "for i in range(1,10):\n",
        "    knn = KNeighborsClassifier(n_neighbors=i)\n",
        "    scores = cross_validate(knn, train_X, train_Y, cv=5, scoring='accuracy')\n",
        "    knn_accuracy.append(scores['test_score'].mean())\n",
        "\n",
        "plt.figure()    \n",
        "plt.plot(range(1,10), knn_accuracy, '-o')\n",
        "plt.xlabel('Number of Neighbors')\n",
        "plt.ylabel('Accuracy')\n",
        "num_of_neighbors = knn_accuracy.index(max(knn_accuracy)) + 1\n",
        "print('The best number of neighbors is',num_of_neighbors)"
      ]
    },
    {
      "cell_type": "markdown",
      "metadata": {},
      "source": [
        "### KNN Testing Data"
      ]
    },
    {
      "cell_type": "code",
      "execution_count": 32,
      "metadata": {},
      "outputs": [
        {
          "name": "stdout",
          "output_type": "stream",
          "text": [
            "The accuracy of KNN is 0.8082086689681627\n",
            "The precision of KNN is 0.8051445074677357\n",
            "The recall of KNN is 0.8059686335410204\n",
            "The f1 score of KNN is 0.8052405744939307\n"
          ]
        },
        {
          "data": {
            "text/html": [
              "<div>\n",
              "<style scoped>\n",
              "    .dataframe tbody tr th:only-of-type {\n",
              "        vertical-align: middle;\n",
              "    }\n",
              "\n",
              "    .dataframe tbody tr th {\n",
              "        vertical-align: top;\n",
              "    }\n",
              "\n",
              "    .dataframe thead th {\n",
              "        text-align: right;\n",
              "    }\n",
              "</style>\n",
              "<table border=\"1\" class=\"dataframe\">\n",
              "  <thead>\n",
              "    <tr style=\"text-align: right;\">\n",
              "      <th></th>\n",
              "      <th>Predicted Urdu</th>\n",
              "      <th>Predicted English</th>\n",
              "      <th>Predicted Mixed</th>\n",
              "    </tr>\n",
              "  </thead>\n",
              "  <tbody>\n",
              "    <tr>\n",
              "      <th>Actual Urdu</th>\n",
              "      <td>1287</td>\n",
              "      <td>159</td>\n",
              "      <td>144</td>\n",
              "    </tr>\n",
              "    <tr>\n",
              "      <th>Actual English</th>\n",
              "      <td>212</td>\n",
              "      <td>1233</td>\n",
              "      <td>143</td>\n",
              "    </tr>\n",
              "    <tr>\n",
              "      <th>Actual Mixed</th>\n",
              "      <td>186</td>\n",
              "      <td>156</td>\n",
              "      <td>1694</td>\n",
              "    </tr>\n",
              "  </tbody>\n",
              "</table>\n",
              "</div>"
            ],
            "text/plain": [
              "                Predicted Urdu  Predicted English  Predicted Mixed\n",
              "Actual Urdu               1287                159              144\n",
              "Actual English             212               1233              143\n",
              "Actual Mixed               186                156             1694"
            ]
          },
          "execution_count": 32,
          "metadata": {},
          "output_type": "execute_result"
        }
      ],
      "source": [
        "my_knn = KNeighborsClassifier(n_neighbors=num_of_neighbors)\n",
        "my_knn.fit(train_X, train_Y)\n",
        "knn_predictions = my_knn.predict(test_X)\n",
        "\n",
        "# Accuracy\n",
        "from sklearn.metrics import accuracy_score\n",
        "knn_accuracy = accuracy_score(test_Y, knn_predictions)\n",
        "print('The accuracy of KNN is', knn_accuracy)\n",
        "\n",
        "# Classification report\n",
        "from sklearn.metrics import classification_report\n",
        "knn_classification_report = classification_report(test_Y, knn_predictions,output_dict=True)\n",
        "knn_precision = knn_classification_report['macro avg']['precision']\n",
        "print('The precision of KNN is', knn_precision)\n",
        "knn_recall = knn_classification_report['macro avg']['recall']\n",
        "print('The recall of KNN is', knn_recall)\n",
        "knn_f1 = knn_classification_report['macro avg']['f1-score']\n",
        "print('The f1 score of KNN is', knn_f1)\n",
        "\n",
        "# Confusion matrix\n",
        "from sklearn.metrics import confusion_matrix\n",
        "knn_confusion_matrix = confusion_matrix(test_Y, knn_predictions)\n",
        "knn_confusion_matrix_df = pd.DataFrame(knn_confusion_matrix, index=['Actual Urdu','Actual English', 'Actual Mixed'], columns=['Predicted Urdu', 'Predicted English', 'Predicted Mixed'])\n",
        "knn_confusion_matrix_df"
      ]
    },
    {
      "cell_type": "markdown",
      "metadata": {
        "id": "RDFIFrp2nMVp"
      },
      "source": [
        "## Random Forrest"
      ]
    },
    {
      "cell_type": "markdown",
      "metadata": {
        "id": "-MFAxYd1nQKB"
      },
      "source": [
        "### Random Forrest Cross-Validation"
      ]
    },
    {
      "cell_type": "code",
      "execution_count": 24,
      "metadata": {
        "colab": {
          "base_uri": "https://localhost:8080/",
          "height": 297
        },
        "id": "tFu1IgV5oHxw",
        "outputId": "88e18012-58e7-4c7b-8364-89dd1991c9b7"
      },
      "outputs": [
        {
          "name": "stdout",
          "output_type": "stream",
          "text": [
            "The best number of estimators is 54\n"
          ]
        },
        {
          "data": {
            "image/png": "[encoded data removed]",
            "text/plain": [
              "<Figure size 432x288 with 1 Axes>"
            ]
          },
          "metadata": {
            "needs_background": "light"
          },
          "output_type": "display_data"
        }
      ],
      "source": [
        "# Random Forrest\n",
        "from sklearn.ensemble import RandomForestClassifier\n",
        "# Cross Validation\n",
        "from sklearn.model_selection import cross_validate\n",
        "max_depth_range = [ int( np.exp(i)) for i in range(1,10) ] \n",
        "random_forrest_accuracy = []\n",
        "for i in max_depth_range:\n",
        "    random_forrest = RandomForestClassifier(n_estimators=150, max_depth = i, random_state=0, n_jobs=-1, bootstrap=False)\n",
        "    scores = cross_validate(random_forrest, train_X, train_Y, cv=5, scoring='accuracy')\n",
        "    random_forrest_accuracy.append(scores['test_score'].mean())\n",
        "\n",
        "plt.figure()\n",
        "plt.plot(np.log(max_depth_range), random_forrest_accuracy, '-o')\n",
        "plt.xlabel('log(Depth of trees)')\n",
        "plt.ylabel('Accuracy')\n",
        "ideal_tree_depth = max_depth_range[ random_forrest_accuracy.index(max(random_forrest_accuracy)) ]\n",
        "print('The best number of estimators is',ideal_tree_depth)"
      ]
    },
    {
      "cell_type": "markdown",
      "metadata": {
        "id": "E0ka9jaMnXoJ"
      },
      "source": [
        "### Random Forrest Testing Data"
      ]
    },
    {
      "cell_type": "code",
      "execution_count": 29,
      "metadata": {
        "colab": {
          "base_uri": "https://localhost:8080/",
          "height": 216
        },
        "id": "Lz6vHjDQplfg",
        "outputId": "a8ea3ca3-1f16-49ec-f9a7-39e1d6b24106"
      },
      "outputs": [
        {
          "name": "stdout",
          "output_type": "stream",
          "text": [
            "The accuracy of Random Forrest is 0.7779056386651323\n",
            "The precision of Random Forrest is 0.781365150024499\n",
            "The recall of Random Forrest is 0.770298534930726\n",
            "The f1 score of Random Forrest is 0.7738514811827578\n"
          ]
        },
        {
          "data": {
            "text/html": [
              "<div>\n",
              "<style scoped>\n",
              "    .dataframe tbody tr th:only-of-type {\n",
              "        vertical-align: middle;\n",
              "    }\n",
              "\n",
              "    .dataframe tbody tr th {\n",
              "        vertical-align: top;\n",
              "    }\n",
              "\n",
              "    .dataframe thead th {\n",
              "        text-align: right;\n",
              "    }\n",
              "</style>\n",
              "<table border=\"1\" class=\"dataframe\">\n",
              "  <thead>\n",
              "    <tr style=\"text-align: right;\">\n",
              "      <th></th>\n",
              "      <th>Predicted Urdu</th>\n",
              "      <th>Predicted English</th>\n",
              "      <th>Predicted Mixed</th>\n",
              "    </tr>\n",
              "  </thead>\n",
              "  <tbody>\n",
              "    <tr>\n",
              "      <th>Actual Urdu</th>\n",
              "      <td>1152</td>\n",
              "      <td>167</td>\n",
              "      <td>271</td>\n",
              "    </tr>\n",
              "    <tr>\n",
              "      <th>Actual English</th>\n",
              "      <td>153</td>\n",
              "      <td>1155</td>\n",
              "      <td>280</td>\n",
              "    </tr>\n",
              "    <tr>\n",
              "      <th>Actual Mixed</th>\n",
              "      <td>132</td>\n",
              "      <td>155</td>\n",
              "      <td>1749</td>\n",
              "    </tr>\n",
              "  </tbody>\n",
              "</table>\n",
              "</div>"
            ],
            "text/plain": [
              "                Predicted Urdu  Predicted English  Predicted Mixed\n",
              "Actual Urdu               1152                167              271\n",
              "Actual English             153               1155              280\n",
              "Actual Mixed               132                155             1749"
            ]
          },
          "execution_count": 29,
          "metadata": {},
          "output_type": "execute_result"
        }
      ],
      "source": [
        "my_random_forrest = RandomForestClassifier(n_estimators=1500, max_depth =ideal_tree_depth, random_state=0,n_jobs=-1)\n",
        "my_random_forrest.fit(train_X, train_Y)\n",
        "random_forrest_pred = my_random_forrest.predict(test_X)\n",
        "\n",
        "# Accuracy\n",
        "random_forrest_accuracy = accuracy_score(test_Y, random_forrest_pred)\n",
        "print('The accuracy of Random Forrest is', random_forrest_accuracy)\n",
        "\n",
        "# Classification report\n",
        "rf_classification_report = classification_report(test_Y, random_forrest_pred,output_dict=True)\n",
        "rf_precision = rf_classification_report['macro avg']['precision']\n",
        "print('The precision of Random Forrest is', rf_precision)\n",
        "rf_recall = rf_classification_report['macro avg']['recall']\n",
        "print('The recall of Random Forrest is', rf_recall)\n",
        "rf_f1 = rf_classification_report['macro avg']['f1-score']\n",
        "print('The f1 score of Random Forrest is', rf_f1)\n",
        "\n",
        "# Confusion matrix\n",
        "rf_confusion_matrix = confusion_matrix(test_Y, random_forrest_pred)\n",
        "rf_confusion_matrix_df = pd.DataFrame(rf_confusion_matrix, index=['Actual Urdu','Actual English', 'Actual Mixed'], columns=['Predicted Urdu', 'Predicted English', 'Predicted Mixed'])\n",
        "rf_confusion_matrix_df"
      ]
    },
    {
      "cell_type": "markdown",
      "metadata": {
        "id": "rHwD7YvVncEV"
      },
      "source": [
        "## Support Vector Machine"
      ]
    },
    {
      "cell_type": "markdown",
      "metadata": {
        "id": "9nYA4hwgng2L"
      },
      "source": [
        "### Support Vector Machine Cross-Validation"
      ]
    },
    {
      "cell_type": "code",
      "execution_count": null,
      "metadata": {
        "colab": {
          "base_uri": "https://localhost:8080/",
          "height": 297
        },
        "id": "Wm4kYLmDppbY",
        "outputId": "bf42d4ac-ab5f-4ae4-b69f-39c702b7824d"
      },
      "outputs": [
        {
          "name": "stdout",
          "output_type": "stream",
          "text": [
            "The best C is 90\n"
          ]
        },
        {
          "data": {
            "image/png": "[encoded data removed]",
            "text/plain": [
              "<Figure size 432x288 with 1 Axes>"
            ]
          },
          "metadata": {
            "needs_background": "light"
          },
          "output_type": "display_data"
        }
      ],
      "source": [
        "# Support Vector Machine\n",
        "from sklearn.svm import SVC\n",
        "# Cross Validation\n",
        "C_range = [ 10*i for i in range(5,15)]\n",
        "svc_accuracy = []\n",
        "for i in C_range:\n",
        "    svc = SVC(C=i, kernel='rbf', random_state=0)\n",
        "    scores = cross_validate(svc, train_X, train_Y, cv=5, scoring='accuracy')\n",
        "    svc_accuracy.append(scores['test_score'].mean())\n",
        "\n",
        "plt.figure()\n",
        "plt.plot(C_range, svc_accuracy, '-o')\n",
        "plt.xlabel('C')\n",
        "plt.ylabel('Accuracy')\n",
        "num_of_C = C_range[ svc_accuracy.index(max(svc_accuracy)) ]\n",
        "print('The best C is',num_of_C)"
      ]
    },
    {
      "cell_type": "markdown",
      "metadata": {
        "id": "zg9OID5Nnl-i"
      },
      "source": [
        "### Support Vector Machine Testing Data"
      ]
    },
    {
      "cell_type": "code",
      "execution_count": null,
      "metadata": {
        "colab": {
          "base_uri": "https://localhost:8080/",
          "height": 216
        },
        "id": "EfyvTZiXptPJ",
        "outputId": "2d0ac973-63c6-4ca5-d254-6cf80224dccf"
      },
      "outputs": [
        {
          "name": "stdout",
          "output_type": "stream",
          "text": [
            "The accuracy of SVC is 0.7917146144994246\n",
            "The precision of SVC is 0.7883619979567126\n",
            "The recall of SVC is 0.7883898092290184\n",
            "The f1 score of SVC is 0.7882790465870039\n"
          ]
        },
        {
          "data": {
            "text/html": [
              "<div>\n",
              "<style scoped>\n",
              "    .dataframe tbody tr th:only-of-type {\n",
              "        vertical-align: middle;\n",
              "    }\n",
              "\n",
              "    .dataframe tbody tr th {\n",
              "        vertical-align: top;\n",
              "    }\n",
              "\n",
              "    .dataframe thead th {\n",
              "        text-align: right;\n",
              "    }\n",
              "</style>\n",
              "<table border=\"1\" class=\"dataframe\">\n",
              "  <thead>\n",
              "    <tr style=\"text-align: right;\">\n",
              "      <th></th>\n",
              "      <th>Predicted Urdu</th>\n",
              "      <th>Predicted English</th>\n",
              "      <th>Predicted Mixed</th>\n",
              "    </tr>\n",
              "  </thead>\n",
              "  <tbody>\n",
              "    <tr>\n",
              "      <th>Actual Urdu</th>\n",
              "      <td>1244</td>\n",
              "      <td>172</td>\n",
              "      <td>174</td>\n",
              "    </tr>\n",
              "    <tr>\n",
              "      <th>Actual English</th>\n",
              "      <td>217</td>\n",
              "      <td>1200</td>\n",
              "      <td>171</td>\n",
              "    </tr>\n",
              "    <tr>\n",
              "      <th>Actual Mixed</th>\n",
              "      <td>176</td>\n",
              "      <td>176</td>\n",
              "      <td>1684</td>\n",
              "    </tr>\n",
              "  </tbody>\n",
              "</table>\n",
              "</div>"
            ],
            "text/plain": [
              "                Predicted Urdu  Predicted English  Predicted Mixed\n",
              "Actual Urdu               1244                172              174\n",
              "Actual English             217               1200              171\n",
              "Actual Mixed               176                176             1684"
            ]
          },
          "execution_count": 33,
          "metadata": {},
          "output_type": "execute_result"
        }
      ],
      "source": [
        "my_svc = SVC(C=num_of_C, kernel='rbf', random_state=0)\n",
        "my_svc.fit(train_X, train_Y)\n",
        "svc_pred = my_svc.predict(test_X)\n",
        "\n",
        "# Accuracy\n",
        "svc_accuracy = accuracy_score(test_Y, svc_pred)\n",
        "print('The accuracy of SVC is', svc_accuracy)\n",
        "\n",
        "# Classification report\n",
        "svc_classification_report = classification_report(test_Y, svc_pred,output_dict=True)\n",
        "svc_precision = svc_classification_report['macro avg']['precision']\n",
        "print('The precision of SVC is', svc_precision)\n",
        "svc_recall = svc_classification_report['macro avg']['recall']\n",
        "print('The recall of SVC is', svc_recall)\n",
        "svc_f1 = svc_classification_report['macro avg']['f1-score']\n",
        "print('The f1 score of SVC is', svc_f1)\n",
        "\n",
        "# Confusion matrix\n",
        "svc_confusion_matrix = confusion_matrix(test_Y, svc_pred)\n",
        "svc_confusion_matrix_df = pd.DataFrame(svc_confusion_matrix, index=['Actual Urdu','Actual English', 'Actual Mixed'], columns=['Predicted Urdu', 'Predicted English', 'Predicted Mixed'])\n",
        "svc_confusion_matrix_df\n"
      ]
    },
    {
      "cell_type": "markdown",
      "metadata": {
        "id": "7SSILNRloXLU"
      },
      "source": [
        "## Neural Network"
      ]
    },
    {
      "cell_type": "markdown",
      "metadata": {
        "id": "oQHtzWpmD4Hr"
      },
      "source": [
        "### Hidden Layers"
      ]
    },
    {
      "cell_type": "code",
      "execution_count": null,
      "metadata": {
        "colab": {
          "base_uri": "https://localhost:8080/"
        },
        "id": "-fg-M4fwtuPf",
        "outputId": "1f55e64d-b692-41df-fead-8cebed35a24c"
      },
      "outputs": [
        {
          "name": "stdout",
          "output_type": "stream",
          "text": [
            "(1000, 500, 250)\n",
            "(1000, 800, 640, 512, 409)\n",
            "(1000, 700, 489, 342, 240, 168)\n",
            "(500, 450, 405, 364, 328)\n",
            "(1597, 987, 610, 377, 233, 144, 89, 55, 34, 21)\n"
          ]
        }
      ],
      "source": [
        "hls = []\n",
        "hls1 = tuple( int( 1000/(2**i )) for i in range(3) )\n",
        "hls2 = tuple( int (1000/(2**i) ) for i in range(4) )\n",
        "hls3 = tuple( int( 1000*(0.8**i) ) for i in range(5) )\n",
        "hls4 = tuple( int( 1000*(0.7**i) ) for i in range(6) )\n",
        "hls5 = tuple( int( 1000*(0.6**i) ) for i in range(7) )\n",
        "hls6 = tuple( int( 500*(0.9**i) ) for i in range(5) )\n",
        "hls7 = tuple( int( 500*(0.8**i) ) for i in range(6) )\n",
        "hls8 = tuple( int( 500*(0.7**i) ) for i in range(7) )\n",
        "hls9 = tuple( int( 500*(0.6**i) ) for i in range(8) )\n",
        "hls10 = tuple( int( 200*(0.95**i) ) for i in range(10) )\n",
        "hls_exp = tuple( int( 5000*np.exp(-i-1) ) for i in range(6) )\n",
        "\n",
        "hls.append(hls1)\n",
        "#hls.append(hls2)\n",
        "hls.append(hls3)\n",
        "hls.append(hls4)\n",
        "#hls.append(hls5)\n",
        "hls.append(hls6)\n",
        "#hls.append(hls7)\n",
        "#hls.append(hls8)\n",
        "#hls.append(hls9)\n",
        "#hls.append(hls10)\n",
        "#hls.append(hls_exp)\n",
        "\n",
        "for i in hls:\n",
        "    print(i)"
      ]
    },
    {
      "cell_type": "markdown",
      "metadata": {
        "id": "pVbsk1emoiwz"
      },
      "source": [
        "### Neural Network Testing Data"
      ]
    },
    {
      "cell_type": "code",
      "execution_count": 35,
      "metadata": {
        "colab": {
          "base_uri": "https://localhost:8080/",
          "height": 253
        },
        "id": "x9oRQy56HJiW",
        "outputId": "800905f7-fc91-4b70-c515-8bfaedf22d8d"
      },
      "outputs": [
        {
          "name": "stdout",
          "output_type": "stream",
          "text": [
            "The accuracy of MLP is 0.7880705792098197\n",
            "The precision of MLP is 0.7859044496763795\n",
            "The recall of MLP is 0.7852276660796588\n",
            "The f1 score of MLP is 0.7853201893404181\n"
          ]
        },
        {
          "data": {
            "text/html": [
              "<div>\n",
              "<style scoped>\n",
              "    .dataframe tbody tr th:only-of-type {\n",
              "        vertical-align: middle;\n",
              "    }\n",
              "\n",
              "    .dataframe tbody tr th {\n",
              "        vertical-align: top;\n",
              "    }\n",
              "\n",
              "    .dataframe thead th {\n",
              "        text-align: right;\n",
              "    }\n",
              "</style>\n",
              "<table border=\"1\" class=\"dataframe\">\n",
              "  <thead>\n",
              "    <tr style=\"text-align: right;\">\n",
              "      <th></th>\n",
              "      <th>Predicted Urdu</th>\n",
              "      <th>Predicted English</th>\n",
              "      <th>Predicted Mixed</th>\n",
              "    </tr>\n",
              "  </thead>\n",
              "  <tbody>\n",
              "    <tr>\n",
              "      <th>Actual Urdu</th>\n",
              "      <td>1264</td>\n",
              "      <td>160</td>\n",
              "      <td>166</td>\n",
              "    </tr>\n",
              "    <tr>\n",
              "      <th>Actual English</th>\n",
              "      <td>189</td>\n",
              "      <td>1179</td>\n",
              "      <td>220</td>\n",
              "    </tr>\n",
              "    <tr>\n",
              "      <th>Actual Mixed</th>\n",
              "      <td>197</td>\n",
              "      <td>173</td>\n",
              "      <td>1666</td>\n",
              "    </tr>\n",
              "  </tbody>\n",
              "</table>\n",
              "</div>"
            ],
            "text/plain": [
              "                Predicted Urdu  Predicted English  Predicted Mixed\n",
              "Actual Urdu               1264                160              166\n",
              "Actual English             189               1179              220\n",
              "Actual Mixed               197                173             1666"
            ]
          },
          "execution_count": 35,
          "metadata": {},
          "output_type": "execute_result"
        }
      ],
      "source": [
        "best_hls = (512,256,128,64)\n",
        "\n",
        "from sklearn.neural_network import MLPClassifier\n",
        "my_mlp = MLPClassifier(hidden_layer_sizes=best_hls, max_iter=10**3)\n",
        "my_mlp.fit(train_X, train_Y)\n",
        "mlp_predictions = my_mlp.predict(test_X)\n",
        "\n",
        "# Accuracy\n",
        "from sklearn.metrics import accuracy_score\n",
        "acc = accuracy_score(test_Y, mlp_predictions)\n",
        "print('The accuracy of MLP is', acc)\n",
        "\n",
        "# Classification report\n",
        "from sklearn.metrics import classification_report\n",
        "mlp_classification_report = classification_report(test_Y, mlp_predictions,output_dict=True)\n",
        "mlp_precision = mlp_classification_report['macro avg']['precision']\n",
        "print('The precision of MLP is', mlp_precision)\n",
        "mlp_recall = mlp_classification_report['macro avg']['recall']\n",
        "print('The recall of MLP is', mlp_recall)\n",
        "mlp_f1 = mlp_classification_report['macro avg']['f1-score']\n",
        "print('The f1 score of MLP is', mlp_f1)\n",
        "\n",
        "# Confusion matrix\n",
        "from sklearn.metrics import confusion_matrix\n",
        "mlp_confusion_matrix = confusion_matrix(test_Y, mlp_predictions)\n",
        "mlp_confusion_matrix_df = pd.DataFrame(mlp_confusion_matrix, index=['Actual Urdu','Actual English', 'Actual Mixed'], columns=['Predicted Urdu', 'Predicted English', 'Predicted Mixed'])\n",
        "mlp_confusion_matrix_df\n"
      ]
    }
  ],
  "metadata": {
    "colab": {
      "collapsed_sections": [],
      "name": "21100037_22100072_23100175_22100264_22100209_22100199_group11.ipynb",
      "provenance": []
    },
    "kernelspec": {
      "display_name": "Python 3",
      "name": "python3"
    },
    "language_info": {
      "codemirror_mode": {
        "name": "ipython",
        "version": 3
      },
      "file_extension": ".py",
      "mimetype": "text/x-python",
      "name": "python",
      "nbconvert_exporter": "python",
      "pygments_lexer": "ipython3",
      "version": "3.8.8"
    }
  },
  "nbformat": 4,
  "nbformat_minor": 0
}
